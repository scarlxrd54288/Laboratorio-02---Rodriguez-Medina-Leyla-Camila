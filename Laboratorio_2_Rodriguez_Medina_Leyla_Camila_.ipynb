{
  "cells": [
    {
      "cell_type": "markdown",
      "metadata": {
        "id": "view-in-github",
        "colab_type": "text"
      },
      "source": [
        "<a href=\"https://colab.research.google.com/github/scarlxrd54288/Laboratorio-02---Rodriguez-Medina-Leyla-Camila/blob/main/Laboratorio_2_Rodriguez_Medina_Leyla_Camila_.ipynb\" target=\"_parent\"><img src=\"https://colab.research.google.com/assets/colab-badge.svg\" alt=\"Open In Colab\"/></a>"
      ]
    },
    {
      "cell_type": "markdown",
      "metadata": {
        "id": "tfwOfkjclHQx"
      },
      "source": [
        "# Regresión Lineal Multiple"
      ]
    },
    {
      "cell_type": "code",
      "execution_count": null,
      "metadata": {
        "id": "f0WGMMljlHQz"
      },
      "outputs": [],
      "source": [
        "# Importa módulos para la gestión de directorios y rutas\n",
        "import os\n",
        "\n",
        "# Librerías para operaciones vectoriales y cálculos científicos en Python\n",
        "import numpy as np\n",
        "import pandas as pd\n",
        "from IPython.display import display\n",
        "\n",
        "# Librerías para la creación y visualización de gráficos\n",
        "from matplotlib import pyplot\n",
        "from mpl_toolkits.mplot3d import Axes3D  # Requerido para la representación de superficies en 3D\n",
        "\n",
        "# Configura matplotlib para mostrar gráficos directamente en los cuadernos de Jupyter\n",
        "%matplotlib inline"
      ]
    },
    {
      "cell_type": "code",
      "source": [
        "# Importa el módulo de Google Colab para montar Google Drive\n",
        "from google.colab import drive\n",
        "\n",
        "# Monta Google Drive en el directorio especificado para acceder a archivos\n",
        "drive.mount(\"/content/gdrive\")"
      ],
      "metadata": {
        "id": "LhERtghFlVGr",
        "colab": {
          "base_uri": "https://localhost:8080/"
        },
        "outputId": "cd4485e5-d003-4a83-a2c5-5bd2a6da9112"
      },
      "execution_count": null,
      "outputs": [
        {
          "output_type": "stream",
          "name": "stdout",
          "text": [
            "Drive already mounted at /content/gdrive; to attempt to forcibly remount, call drive.mount(\"/content/gdrive\", force_remount=True).\n"
          ]
        }
      ]
    },
    {
      "cell_type": "markdown",
      "metadata": {
        "id": "G6-ykOwelHQ0"
      },
      "source": [
        "## 2 Regresión lineal con multiples variables\n",
        "\n",
        "\n",
        "\n",
        "<a id=\"section4\"></a>\n",
        "### 2.1 Normalización de caracteristicas\n",
        "Este código carga un archivo CSV en un DataFrame de pandas y luego imprime el número total de columnas y sus nombres. A continuación, elimina una columna específica, cuyo índice se define, y guarda el DataFrame modificado en un nuevo archivo CSV. Luego, trabaja con el DataFrame actualizado, extrayendo las primeras 30 columnas y la columna en el índice 30, para usar estos datos en el análisis posterior. Finalmente, imprime la cantidad de datos en la columna objetivo.\n"
      ]
    },
    {
      "cell_type": "code",
      "execution_count": null,
      "metadata": {
        "id": "6BP5grkxlHQ0",
        "colab": {
          "base_uri": "https://localhost:8080/"
        },
        "outputId": "90e1abf0-cdde-40da-836a-6e363615b8b0"
      },
      "outputs": [
        {
          "output_type": "stream",
          "name": "stdout",
          "text": [
            "Número de columnas: 31\n",
            "Nombres de las columnas: ['Time', 'V1', 'V2', 'V3', 'V4', 'V5', 'V6', 'V7', 'V8', 'V9', 'V10', 'V11', 'V12', 'V13', 'V14', 'V15', 'V16', 'V17', 'V18', 'V19', 'V20', 'V21', 'V22', 'V23', 'V24', 'V25', 'V26', 'V27', 'V28', 'Amount', 'Class']\n",
            "DataFrame después de eliminar la columna con índice 30 :\n",
            "<class 'pandas.core.frame.DataFrame'>\n",
            "RangeIndex: 107046 entries, 0 to 107045\n",
            "Data columns (total 30 columns):\n",
            " #   Column  Non-Null Count   Dtype  \n",
            "---  ------  --------------   -----  \n",
            " 0   Time    107046 non-null  int64  \n",
            " 1   V1      107046 non-null  float64\n",
            " 2   V2      107046 non-null  float64\n",
            " 3   V3      107046 non-null  float64\n",
            " 4   V4      107046 non-null  float64\n",
            " 5   V5      107046 non-null  float64\n",
            " 6   V6      107046 non-null  float64\n",
            " 7   V7      107046 non-null  float64\n",
            " 8   V8      107046 non-null  float64\n",
            " 9   V9      107046 non-null  float64\n",
            " 10  V10     107046 non-null  float64\n",
            " 11  V11     107046 non-null  float64\n",
            " 12  V12     107046 non-null  float64\n",
            " 13  V13     107046 non-null  float64\n",
            " 14  V14     107046 non-null  float64\n",
            " 15  V15     107046 non-null  float64\n",
            " 16  V16     107046 non-null  float64\n",
            " 17  V17     107046 non-null  float64\n",
            " 18  V18     107046 non-null  float64\n",
            " 19  V19     107046 non-null  float64\n",
            " 20  V20     107046 non-null  float64\n",
            " 21  V21     107046 non-null  float64\n",
            " 22  V22     107046 non-null  float64\n",
            " 23  V23     107046 non-null  float64\n",
            " 24  V24     107046 non-null  float64\n",
            " 25  V25     107046 non-null  float64\n",
            " 26  V26     107046 non-null  float64\n",
            " 27  V27     107046 non-null  float64\n",
            " 28  V28     107045 non-null  float64\n",
            " 29  Amount  107045 non-null  float64\n",
            "dtypes: float64(29), int64(1)\n",
            "memory usage: 24.5 MB\n",
            "DataFrame modificado guardado exitosamente.\n",
            "Cantidad de datos en la columna y: 107046\n"
          ]
        }
      ],
      "source": [
        "# Cargar el archivo CSV original en un DataFrame\n",
        "df = pd.read_csv('/creditcard.csv', delimiter=',', decimal='.')\n",
        "\n",
        "# Imprimir el número total de columnas y los nombres de las columnas para referencia\n",
        "print(\"Número de columnas:\", len(df.columns))\n",
        "print(\"Nombres de las columnas:\", df.columns.tolist())\n",
        "\n",
        "# Establecer el índice de la columna que se desea eliminar (por ejemplo, el índice 6)\n",
        "column_index = 30  # Modifica este valor según el índice de la columna a eliminar\n",
        "\n",
        "# Comprobar si el índice especificado es válido\n",
        "if column_index < len(df.columns):\n",
        "    # Eliminar la columna en el índice indicado\n",
        "    sin = df.drop(df.columns[column_index], axis=1)\n",
        "\n",
        "    # Mostrar información del DataFrame después de la eliminación de la columna\n",
        "    print(\"DataFrame después de eliminar la columna con índice\", column_index, \":\")\n",
        "    sin.info()\n",
        "\n",
        "    # Guardar el DataFrame modificado en un nuevo archivo CSV\n",
        "    sin.to_csv('/content/test_modificado.csv', index=False)\n",
        "    print(\"DataFrame modificado guardado exitosamente.\")\n",
        "else:\n",
        "    print(f\"Índice {column_index} fuera de rango. El DataFrame tiene {len(df.columns)} columnas.\")\n",
        "\n",
        "# Trabajar con el DataFrame modificado\n",
        "# Extraer las primeras 30 columnas (hasta el índice 29) y la columna en el índice 30\n",
        "X = sin.iloc[:, :29].values\n",
        "y = sin.iloc[:, 29].values\n",
        "\n",
        "# Obtener el tamaño del array y\n",
        "m = y.size\n",
        "print(\"Cantidad de datos en la columna y:\", m)\n"
      ]
    },
    {
      "cell_type": "markdown",
      "metadata": {
        "id": "7iU_3mwZlHQ1"
      },
      "source": [
        "Se reemplazan los valores faltantes (NaN) en el DataFrame con la media de cada columna. Luego, convierte el DataFrame en un array de numpy para facilitar su uso en cálculos numéricos. A continuación, define una función para normalizar los datos: calcula la media y la desviación estándar de cada columna, ajusta la desviación estándar para evitar problemas de división por cero, y luego normaliza los datos para que tengan una media de 0 y una desviación estándar de 1. La función devuelve los datos normalizados junto con la media y desviación estándar usadas en el proceso."
      ]
    },
    {
      "cell_type": "code",
      "execution_count": null,
      "metadata": {
        "id": "7xFD8H3WlHQ1"
      },
      "outputs": [],
      "source": [
        "# Sustituir los valores NaN con la media de cada columna en el DataFrame\n",
        "sin.fillna(df.mean(), inplace=True)\n",
        "\n",
        "# Convertir el DataFrame en un array de numpy si se requiere\n",
        "X = sin.to_numpy()\n",
        "\n",
        "def featureNormalize(X):\n",
        "    # Calcular la media de cada columna\n",
        "    mu = np.mean(X, axis=0)\n",
        "    # Calcular la desviación estándar de cada columna\n",
        "    sigma = np.std(X, axis=0)\n",
        "    # Reemplazar ceros en sigma para evitar problemas de división por cero\n",
        "    sigma = np.where(sigma == 0, 1, sigma)\n",
        "    # Normalizar los datos\n",
        "    X_norm = (X - mu) / sigma\n",
        "    return X_norm, mu, sigma"
      ]
    },
    {
      "cell_type": "code",
      "execution_count": null,
      "metadata": {
        "id": "ipL_QsTZlHQ2",
        "colab": {
          "base_uri": "https://localhost:8080/"
        },
        "outputId": "a568a802-cb77-4f95-fe44-8b4de3755bfa"
      },
      "outputs": [
        {
          "output_type": "stream",
          "name": "stdout",
          "text": [
            "Datos originales:\n",
            " [[ 0.00000000e+00 -1.35980713e+00 -7.27811733e-02 ...  1.33558377e-01\n",
            "  -2.10530535e-02  1.49620000e+02]\n",
            " [ 0.00000000e+00  1.19185711e+00  2.66150712e-01 ... -8.98309914e-03\n",
            "   1.47241692e-02  2.69000000e+00]\n",
            " [ 1.00000000e+00 -1.35835406e+00 -1.34016307e+00 ... -5.53527940e-02\n",
            "  -5.97518406e-02  3.78660000e+02]\n",
            " ...\n",
            " [ 7.02540000e+04  1.15559460e+00  2.62673764e-01 ... -9.95266154e-03\n",
            "   1.93995835e-02  1.98000000e+00]\n",
            " [ 7.02550000e+04  7.96109767e-01 -1.52144099e+00 ...  2.45172509e-02\n",
            "   6.68477573e-02  3.06500000e+02]\n",
            " [ 7.02560000e+04  7.20549911e-01 -1.11779476e+00 ...  1.02425200e-01\n",
            "   1.63985639e-03  9.62017779e+01]]\n",
            "Media calculada: [ 4.41631934e+04 -2.57831414e-01 -2.65604236e-02  6.82250216e-01\n",
            "  1.57008861e-01 -2.83548036e-01  9.80765439e-02 -1.16248634e-01\n",
            "  5.88256510e-02 -5.43321705e-02 -2.00813800e-02  2.36667469e-01\n",
            " -5.12319308e-02 -5.08815648e-03  4.60389704e-02  1.90182648e-01\n",
            " -3.31476211e-03  5.87622903e-02 -9.71327152e-02 -1.85570447e-02\n",
            "  4.35971179e-02 -3.04895974e-02 -1.06799271e-01 -3.74480492e-02\n",
            "  1.01672142e-02  1.33349905e-01  2.57636296e-02  1.60429047e-03\n",
            "  1.63985639e-03  9.62017779e+01]\n",
            "Desviación estándar calculada: [1.77179420e+04 1.85314106e+00 1.64757825e+00 1.31728571e+00\n",
            " 1.34410783e+00 1.34879296e+00 1.29958670e+00 1.20842183e+00\n",
            " 1.23199943e+00 1.11039964e+00 1.06207837e+00 1.06337557e+00\n",
            " 1.09268196e+00 1.03275874e+00 9.58474671e-01 9.37522972e-01\n",
            " 8.94369387e-01 9.30458532e-01 8.44920307e-01 8.15863229e-01\n",
            " 7.51591506e-01 7.41468866e-01 6.39648825e-01 6.23524145e-01\n",
            " 5.95676842e-01 4.40031856e-01 4.91591836e-01 3.91993492e-01\n",
            " 3.20110965e-01 2.61081230e+02]\n",
            "Datos normalizados:\n",
            " [[-2.49256903e+00 -5.94652909e-01 -2.80537508e-02 ...  3.36623155e-01\n",
            "  -7.08907607e-02  2.04603839e-01]\n",
            " [-2.49256903e+00  7.82287199e-01  1.77661446e-01 ... -2.70090954e-02\n",
            "   4.08743037e-02 -3.58171201e-01]\n",
            " [-2.49251259e+00 -5.93868796e-01 -7.97293026e-01 ... -1.45301097e-01\n",
            "  -1.91782549e-01  1.08187870e+00]\n",
            " ...\n",
            " [ 1.47256418e+00  7.62719065e-01  1.75551108e-01 ... -2.94825099e-02\n",
            "   5.54799088e-02 -3.60890661e-01]\n",
            " [ 1.47262062e+00  5.68732304e-01 -9.07319918e-01 ...  5.84524001e-02\n",
            "   2.03704053e-01  8.05489624e-01]\n",
            " [ 1.47267706e+00  5.27958367e-01 -6.62326256e-01 ...  2.57200468e-01\n",
            "   0.00000000e+00 -5.44307789e-17]]\n"
          ]
        }
      ],
      "source": [
        "# Normalizar los datos utilizando la función definida\n",
        "X_norm, mu, sigma = featureNormalize(X)\n",
        "\n",
        "# Imprimir los datos originales para referencia\n",
        "print(\"Datos originales:\\n\", X)\n",
        "# Mostrar la media calculada de cada columna\n",
        "print(\"Media calculada:\", mu)\n",
        "# Mostrar la desviación estándar calculada de cada columna\n",
        "print(\"Desviación estándar calculada:\", sigma)\n",
        "# Imprimir los datos después de la normalización\n",
        "print(\"Datos normalizados:\\n\", X_norm)"
      ]
    },
    {
      "cell_type": "markdown",
      "metadata": {
        "id": "it9bMYuLlHQ2"
      },
      "source": [
        "Despues de `featureNormalize` la funcion es provada, se añade el temino de interseccion a `X_norm`:"
      ]
    },
    {
      "cell_type": "code",
      "execution_count": null,
      "metadata": {
        "id": "nNaGVxgolHQ2"
      },
      "outputs": [],
      "source": [
        "# Agregar una columna de unos a X para el término de intersección (X0)\n",
        "# Esto permite incluir el término de intersección en el modelo de regresión\n",
        "X = np.concatenate([np.ones((m, 1)), X_norm], axis=1)"
      ]
    },
    {
      "cell_type": "code",
      "execution_count": null,
      "metadata": {
        "id": "nbUVohnhlHQ3",
        "colab": {
          "base_uri": "https://localhost:8080/"
        },
        "outputId": "7c4dfee0-d831-48db-d7fc-459bac2bc6b7"
      },
      "outputs": [
        {
          "output_type": "stream",
          "name": "stdout",
          "text": [
            "[[ 1.00000000e+00 -2.49256903e+00 -5.94652909e-01 ...  3.36623155e-01\n",
            "  -7.08907607e-02  2.04603839e-01]\n",
            " [ 1.00000000e+00 -2.49256903e+00  7.82287199e-01 ... -2.70090954e-02\n",
            "   4.08743037e-02 -3.58171201e-01]\n",
            " [ 1.00000000e+00 -2.49251259e+00 -5.93868796e-01 ... -1.45301097e-01\n",
            "  -1.91782549e-01  1.08187870e+00]\n",
            " ...\n",
            " [ 1.00000000e+00  1.47256418e+00  7.62719065e-01 ... -2.94825099e-02\n",
            "   5.54799088e-02 -3.60890661e-01]\n",
            " [ 1.00000000e+00  1.47262062e+00  5.68732304e-01 ...  5.84524001e-02\n",
            "   2.03704053e-01  8.05489624e-01]\n",
            " [ 1.00000000e+00  1.47267706e+00  5.27958367e-01 ...  2.57200468e-01\n",
            "   0.00000000e+00 -5.44307789e-17]]\n"
          ]
        }
      ],
      "source": [
        "# Imprimir el array X para visualizar la matriz de características con la columna de intersección añadida\n",
        "print(X)"
      ]
    },
    {
      "cell_type": "markdown",
      "metadata": {
        "id": "xzLiIE6NlHQ3"
      },
      "source": [
        "<a id=\"section5\"></a>\n",
        "### 2.2 Descenso por el gradiente\n",
        "\n"
      ]
    },
    {
      "cell_type": "markdown",
      "source": [
        "La siguiente función calcula el costo de un modelo de regresión lineal múltiple. Primero, determina el número de ejemplos en el conjunto de datos. Luego, utiliza los parámetros del modelo (`theta`) para hacer predicciones basadas en las características (`X`). Calcula el error entre estas predicciones y los valores reales (`y`). Finalmente, calcula el costo, que es el promedio del error cuadrático, proporcionando una medida de cuán bien el modelo está ajustado a los datos."
      ],
      "metadata": {
        "id": "VSPT027Xz8BK"
      }
    },
    {
      "cell_type": "code",
      "execution_count": null,
      "metadata": {
        "id": "EQCMN7KqlHQ3"
      },
      "outputs": [],
      "source": [
        "def computeCostMulti(X, y, theta):\n",
        "    # Obtener el número de ejemplos\n",
        "    m = len(y)\n",
        "    # Calcular las predicciones usando los parámetros theta\n",
        "    predictions = np.dot(X, theta)\n",
        "    # Calcular el error entre las predicciones y los valores reales\n",
        "    errors = predictions - y\n",
        "    # Calcular el costo (función de costo) como el promedio del error cuadrático\n",
        "    cost = (1 / (2 * m)) * np.dot(errors.T, errors)\n",
        "    return cost"
      ]
    },
    {
      "cell_type": "markdown",
      "source": [
        "Esta función realiza el descenso por gradiente para optimizar los parámetros (`theta`) de un modelo de regresión lineal múltiple. Primero, determina el número total de ejemplos y crea una lista para registrar el costo durante cada iteración. Luego, en cada iteración, calcula las predicciones actuales, el error entre estas predicciones y los valores reales, y el gradiente de la función de costo. Actualiza los parámetros del modelo usando el gradiente y la tasa de aprendizaje (`alpha`). Finalmente, guarda el costo calculado para los parámetros actualizados en el historial. La función devuelve los parámetros optimizados y el historial de costos."
      ],
      "metadata": {
        "id": "MZzB97tw0Aw8"
      }
    },
    {
      "cell_type": "code",
      "execution_count": null,
      "metadata": {
        "id": "Vdy_aQUklHQ4"
      },
      "outputs": [],
      "source": [
        "def gradientDescentMulti(X, y, theta, alpha, num_iters):\n",
        "    m = len(y)  # Número total de ejemplos\n",
        "    J_history = []  # Lista para almacenar el historial de costos durante la optimización\n",
        "\n",
        "    for i in range(num_iters):\n",
        "        # Calcular las predicciones con los parámetros actuales\n",
        "        predictions = np.dot(X, theta)\n",
        "        # Calcular el error entre las predicciones y los valores reales\n",
        "        errors = predictions - y\n",
        "        # Calcular el gradiente de la función de costo\n",
        "        gradient = (1 / m) * np.dot(X.T, errors)\n",
        "        # Actualizar los parámetros theta utilizando el gradiente y la tasa de aprendizaje\n",
        "        theta = theta - alpha * gradient\n",
        "        # Registrar el costo actual en el historial\n",
        "        J_history.append(computeCostMulti(X, y, theta))\n",
        "\n",
        "    return theta, J_history"
      ]
    },
    {
      "cell_type": "markdown",
      "metadata": {
        "id": "a8b_GwZslHQ4"
      },
      "source": [
        "#### 3.2.1 Seleccionando coheficientes de aprendizaje\n",
        "Esta  celda realiza la generación y predicción de datos en un modelo de regresión lineal después de desnormalizar y normalizar las características.\n",
        "\n",
        "1. **Desnormalización**: Primero, genera valores aleatorios en el rango de [-1, 1] y luego los desnormaliza usando las medias (`mu`) y desviaciones estándar (`sigma`) originales para devolverlos a la escala de los datos originales.\n",
        "\n",
        "2. **Preparación de Datos**: Añade una columna de unos a los datos desnormalizados para el término de intersección del modelo. Luego, normaliza las características (excluyendo la columna de unos) para que coincidan con las que se utilizaron durante el entrenamiento del modelo.\n",
        "\n",
        "3. **Predicción**: Utiliza los parámetros del modelo (`theta`) para hacer predicciones sobre los datos normalizados.\n",
        "\n",
        "4. **Resultados**: Muestra las primeras 5 predicciones y opcionalmente imprime estadísticas básicas como el promedio y la desviación estándar de las predicciones."
      ]
    },
    {
      "cell_type": "code",
      "execution_count": null,
      "metadata": {
        "id": "sId0DiH9lHQ4",
        "colab": {
          "base_uri": "https://localhost:8080/"
        },
        "outputId": "2368b5be-2cfb-4df0-e20f-814db7fd726d"
      },
      "outputs": [
        {
          "output_type": "stream",
          "name": "stdout",
          "text": [
            "Predicción 1: $1\n",
            "Predicción 2: $2\n",
            "Predicción 3: $3\n",
            "Predicción 4: $0\n",
            "Predicción 5: $-3\n",
            "\n",
            "Promedio de las predicciones: $1\n",
            "Desviación estándar de las predicciones: $2\n"
          ]
        }
      ],
      "source": [
        "import numpy as np\n",
        "import matplotlib.pyplot as plt\n",
        "\n",
        "# Definir una función para revertir la normalización de las características\n",
        "def denormalize(X_norm, mu, sigma):\n",
        "    return X_norm * sigma + mu\n",
        "\n",
        "# Supongamos que ya tenemos calculados mu, sigma y theta\n",
        "# Ejemplo de valores:\n",
        "mu = np.array([0, 0, 0])  # Media de cada característica en el dataset original\n",
        "sigma = np.array([1, 1, 1])  # Desviación estándar de cada característica en el dataset original\n",
        "theta = np.array([1, 0.5, -0.5, 2])  # Parámetros del modelo de regresión\n",
        "\n",
        "# Número de características (excluyendo la columna de intersección)\n",
        "num_features = len(mu)\n",
        "\n",
        "# Número de predicciones a generar\n",
        "num_predictions = 100\n",
        "\n",
        "# Generar valores aleatorios en el rango [-1, 1]\n",
        "np.random.seed(0)  # Para asegurar reproducibilidad\n",
        "random_values = np.random.rand(num_predictions, num_features) * 2 - 1  # Valores en el intervalo [-1, 1]\n",
        "\n",
        "# Desnormalizar los valores aleatorios para que coincidan con la escala original del dataset\n",
        "random_values = denormalize(random_values, mu, sigma)\n",
        "\n",
        "# Añadir una columna de unos para el término de intersección en el modelo\n",
        "X_with_intercept = np.concatenate([np.ones((num_predictions, 1)), random_values], axis=1)\n",
        "\n",
        "# Normalizar las características para que se alineen con el modelo\n",
        "# Normalizamos solo las características (excluyendo la columna de intersección)\n",
        "X_norm, mu, sigma = featureNormalize(X_with_intercept[:, 1:])  # Normalizar características\n",
        "X_with_intercept = np.concatenate([np.ones((num_predictions, 1)), X_norm], axis=1)  # Reconstruir el conjunto de datos con la columna de unos\n",
        "\n",
        "# Realizar predicciones utilizando los parámetros del modelo\n",
        "prices = np.dot(X_with_intercept, theta)\n",
        "\n",
        "# Mostrar las primeras 5 predicciones\n",
        "for i in range(5):\n",
        "    print(f\"Predicción {i+1}: ${prices[i]:.0f}\")\n",
        "\n",
        "# Opcional: Imprimir estadísticas básicas de las predicciones\n",
        "print(f\"\\nPromedio de las predicciones: ${np.mean(prices):.0f}\")\n",
        "print(f\"Desviación estándar de las predicciones: ${np.std(prices):.0f}\")"
      ]
    },
    {
      "cell_type": "markdown",
      "source": [
        "Se realiza los siguientes pasos para generar y analizar predicciones con un modelo de regresión lineal:\n",
        "\n",
        "1. **Generación de Datos Aleatorios**: Crea 100 conjuntos de datos aleatorios dentro del rango de [-1, 1] para cada característica, imitando la distribución del dataset original.\n",
        "\n",
        "2. **Desnormalización**: Ajusta estos datos aleatorios para que coincidan con la escala original del dataset usando las medias (`mu`) y desviaciones estándar (`sigma`) calculadas previamente.\n",
        "\n",
        "3. **Preparación del Modelo**: Añade una columna de unos a los datos desnormalizados para representar el término de intersección en el modelo de regresión. Luego, normaliza estas características para que coincidan con las características usadas en el entrenamiento del modelo.\n",
        "\n",
        "4. **Predicción**: Usa los parámetros del modelo (`theta`) para calcular las predicciones sobre los datos normalizados.\n",
        "\n",
        "5. **Resultados**: Muestra las primeras 5 predicciones y calcula el promedio y la desviación estándar de todas las predicciones para dar una idea general de los resultados."
      ],
      "metadata": {
        "id": "cur-MD1i0LYM"
      }
    },
    {
      "cell_type": "code",
      "execution_count": null,
      "metadata": {
        "id": "y0aZhWEqlHQ4",
        "colab": {
          "base_uri": "https://localhost:8080/"
        },
        "outputId": "7d509d56-0c31-4d11-bcfe-be67a010df4a"
      },
      "outputs": [
        {
          "output_type": "stream",
          "name": "stdout",
          "text": [
            "Predicción 1: $1\n",
            "Predicción 2: $2\n",
            "Predicción 3: $3\n",
            "Predicción 4: $0\n",
            "Predicción 5: $-3\n",
            "\n",
            "Promedio de las predicciones: $1\n",
            "Desviación estándar de las predicciones: $2\n"
          ]
        }
      ],
      "source": [
        "# Suponiendo que ya tenemos calculados `mu`, `sigma` y `theta`\n",
        "# Número de características (excluyendo la columna de intersección)\n",
        "num_features = len(mu)\n",
        "\n",
        "# Generar datos aleatorios que imiten el rango de los datos del dataset original\n",
        "# Utilizamos una semilla para asegurar resultados reproducibles\n",
        "np.random.seed(0)  # Garantiza reproducibilidad\n",
        "num_predictions = 100\n",
        "\n",
        "# Crear valores aleatorios para cada característica en el intervalo [-1, 1]\n",
        "random_values = np.random.rand(num_predictions, num_features) * 2 - 1  # Valores entre -1 y 1\n",
        "\n",
        "# Desnormalizar los valores aleatorios para que se ajusten a la escala original del dataset\n",
        "# Primero revertimos la normalización: valores_aleatorios * sigma + mu\n",
        "random_values = random_values * sigma + mu\n",
        "\n",
        "# Añadir una columna de unos para el término de intersección en el modelo\n",
        "X_with_intercept = np.concatenate([np.ones((num_predictions, 1)), random_values], axis=1)\n",
        "\n",
        "# Normalizar las características para que coincidan con el modelo\n",
        "# Solo normalizamos las características (excluyendo la columna de unos)\n",
        "X_norm, _, _ = featureNormalize(X_with_intercept[:, 1:])  # Normalizar características\n",
        "X_with_intercept = np.concatenate([np.ones((num_predictions, 1)), X_norm], axis=1)  # Reconstruir el conjunto de datos con la columna de unos\n",
        "\n",
        "# Realizar predicciones utilizando los parámetros del modelo\n",
        "prices = np.dot(X_with_intercept, theta)\n",
        "\n",
        "# Imprimir las primeras 5 predicciones\n",
        "for i in range(5):\n",
        "    print(f\"Predicción {i+1}: ${prices[i]:.0f}\")\n",
        "\n",
        "# Imprimir estadísticas básicas de las predicciones\n",
        "print(f\"\\nPromedio de las predicciones: ${np.mean(prices):.0f}\")\n",
        "print(f\"Desviación estándar de las predicciones: ${np.std(prices):.0f}\")\n"
      ]
    },
    {
      "cell_type": "markdown",
      "metadata": {
        "id": "-nMzqD8elHQ4"
      },
      "source": [
        "<a id=\"section7\"></a>\n",
        "### 2.3 Ecuacion de la Normal\n",
        "\n",
        "Una manera de calcular rapidamente el modelo de una regresion lineal es:\n",
        "\n",
        "$$ \\theta = \\left( X^T X\\right)^{-1} X^T\\vec{y}$$\n",
        "\n",
        "Utilizando esta formula no requiere que se escale ninguna caracteristica, y se obtendra una solucion exacta con un solo calculo: no hay “bucles de convergencia” como en el descenso por el gradiente.\n",
        "\n",
        "Primero se recargan los datos para garantizar que las variables no esten modificadas. Recordar que no es necesario escalar las caracteristicas, se debe agregar la columna de unos a la matriz $X$ para tener el termino de intersección($\\theta_0$)."
      ]
    },
    {
      "cell_type": "code",
      "execution_count": null,
      "metadata": {
        "id": "C6j77JNmlHQ5",
        "colab": {
          "base_uri": "https://localhost:8080/"
        },
        "outputId": "09d6caee-2fb4-48c8-bafd-894b26f6ce08"
      },
      "outputs": [
        {
          "output_type": "stream",
          "name": "stdout",
          "text": [
            "284807\n"
          ]
        }
      ],
      "source": [
        "# Cargar datos del archivo CSV\n",
        "# Leer el archivo CSV original y cargarlo en un DataFrame\n",
        "data = pd.read_csv('/creditcard.csv', delimiter=',', decimal='.')\n",
        "\n",
        "# Extraer las características (X) y el vector de respuestas (y) del DataFrame\n",
        "X = data.iloc[:, :29].values  # Primeras 29 columnas como características\n",
        "y = data.iloc[:, 29].values  # Columna 30 como vector de respuestas\n",
        "m = y.size  # Número total de ejemplos\n",
        "print(m)  # Imprimir el número de ejemplos\n",
        "\n",
        "# Añadir una columna de unos para incluir el término de intersección en el modelo\n",
        "X_with_intercept = np.concatenate([np.ones((m, 1)), X], axis=1)"
      ]
    },
    {
      "cell_type": "markdown",
      "source": [
        "La función, `normalEqn`, calcula los parámetros de un modelo de regresión lineal utilizando la ecuación normal, que es una técnica para encontrar los valores óptimos de los parámetros (`theta`) que minimizan la función de costo. Aquí está un resumen de lo que hace cada parte:\n",
        "\n",
        "1. **Crear una Matriz Identidad**: Se crea una matriz identidad (`L`) del mismo tamaño que la matriz de características `X`. Esto es útil para la regularización.\n",
        "\n",
        "2. **Ajuste para el Término de Intersección**: Se asegura de que la regularización no se aplique al término de intersección (la primera columna de `X`). Esto se hace configurando el primer elemento de `L` a 0.\n",
        "\n",
        "3. **Calcular los Parámetros `theta`**: Usa la fórmula de la ecuación normal para calcular `theta`. Primero, suma `lambda` multiplicado por la matriz identidad a la matriz `(X^T * X)`, invierte el resultado y luego multiplica por `X^T` y `y`. La opción de `lambda` permite la regularización, que ayuda a evitar el sobreajuste al penalizar parámetros grandes."
      ],
      "metadata": {
        "id": "oQBTNxWZ0Ylc"
      }
    },
    {
      "cell_type": "code",
      "execution_count": null,
      "metadata": {
        "id": "gVZdjjk9lHQ5"
      },
      "outputs": [],
      "source": [
        "def normalEqn(X, y, lambda_=0):\n",
        "    \"\"\"Calcula los parámetros theta utilizando la ecuación normal con regularización opcional\"\"\"\n",
        "    # Crear una matriz identidad del tamaño adecuado\n",
        "    L = np.eye(X.shape[1])\n",
        "    # No aplicar regularización al término de intersección (primera entrada)\n",
        "    L[0, 0] = 0\n",
        "    # Calcular los parámetros theta usando la ecuación normal con regularización\n",
        "    # Invertir la matriz (X^T * X) + lambda * L y multiplicar por X^T y\n",
        "    return np.dot(np.dot(np.linalg.pinv(np.dot(X.T, X) + lambda_ * L), X.T), y)"
      ]
    },
    {
      "cell_type": "markdown",
      "source": [
        "Esta celda realiza las siguientes tareas:\n",
        "\n",
        "1. **Imputar Valores NaN**: Reemplaza cualquier valor `NaN` en los datos y en la variable objetivo `y` con ceros utilizando `np.nan_to_num`.\n",
        "\n",
        "2. **Normalizar Datos**: Normaliza las características del conjunto de datos, excluyendo la columna de unos que representa el término de intersección. La normalización ajusta las características para que tengan una media de 0 y una desviación estándar de 1.\n",
        "\n",
        "3. **Reensamblar Datos**: Reconstruye el conjunto de datos normalizados incluyendo la columna de unos, necesaria para el término de intersección en el modelo.\n",
        "\n",
        "4. **Calcular Parámetros `theta`**: Utiliza la ecuación normal con regularización (`lambda_`) para calcular los parámetros `theta` que minimizan la función de costo.\n",
        "\n",
        "5. **Generar Nuevas Predicciones**: Crea valores aleatorios dentro del rango de las características originales, los normaliza, y luego realiza predicciones utilizando los parámetros `theta` calculados.\n",
        "\n",
        "6. **Mostrar Resultados**: Imprime las primeras cinco predicciones y proporciona estadísticas básicas (promedio y desviación estándar) de todas las predicciones generadas.\n",
        "\n",
        "Este proceso permite ajustar un modelo de regresión lineal, evaluar su desempeño con datos aleatorios, y revisar los resultados y estadísticas de las predicciones."
      ],
      "metadata": {
        "id": "t5EbeTLr0eGG"
      }
    },
    {
      "cell_type": "code",
      "execution_count": null,
      "metadata": {
        "id": "Ybyw-FfolHQ5",
        "colab": {
          "base_uri": "https://localhost:8080/"
        },
        "outputId": "75c9b3c9-0783-4496-c5a0-d8f59711af68"
      },
      "outputs": [
        {
          "output_type": "stream",
          "name": "stdout",
          "text": [
            "Theta calculado a partir de la ecuación normal:\n",
            "[  88.34961925   -0.87472429  -56.85152414 -132.92462813  -53.11221864\n",
            "   24.60257177  -96.48357019   53.96583003   99.44911838  -25.81433933\n",
            "  -11.07423198  -25.36081182   -0.1906526    -2.27781413    1.26633517\n",
            "    8.35541762   -0.9072872    -0.96743441    1.76401415    8.99592831\n",
            "  -14.01902176   84.84667594   26.55145502  -16.08184788  -28.12678293\n",
            "    1.27301106  -12.16878089   -0.83861005    7.20529875    2.55753909]\n",
            "Predicción 1: $127\n",
            "Predicción 2: $117\n",
            "Predicción 3: $254\n",
            "Predicción 4: $42\n",
            "Predicción 5: $110\n",
            "\n",
            "Promedio de las predicciones: $88\n",
            "Desviación estándar de las predicciones: $236\n"
          ]
        }
      ],
      "source": [
        "# Imputar valores NaN en los datos si es necesario\n",
        "X_with_intercept = np.nan_to_num(X_with_intercept)\n",
        "y = np.nan_to_num(y)\n",
        "\n",
        "# Normalizar los datos (excluyendo la columna de intersección de la normalización)\n",
        "X_norm, mu, sigma = featureNormalize(X_with_intercept[:, 1:])  # Normalizar solo las características\n",
        "# Reensamblar el conjunto de datos incluyendo la columna de unos para el término de intersección\n",
        "X = np.concatenate([np.ones((X_with_intercept.shape[0], 1)), X_norm], axis=1)\n",
        "\n",
        "# Calcular los parámetros theta usando la ecuación normal con regularización\n",
        "lambda_ = 1  # Parámetro de regularización\n",
        "theta = normalEqn(X, y, lambda_=lambda_)\n",
        "\n",
        "# Mostrar los parámetros theta calculados\n",
        "print('Theta calculado a partir de la ecuación normal:')\n",
        "print(theta)\n",
        "\n",
        "# Generar datos aleatorios para hacer predicciones\n",
        "num_predictions = 100\n",
        "np.random.seed(0)  # Para asegurar que los resultados sean reproducibles\n",
        "\n",
        "# Crear valores aleatorios dentro del rango de las características del dataset\n",
        "random_values = np.random.rand(num_predictions, X.shape[1] - 1) * (np.max(X_with_intercept[:, 1:]) - np.min(X_with_intercept[:, 1:])) + np.min(X_with_intercept[:, 1:])\n",
        "\n",
        "# Normalizar los valores aleatorios utilizando las medias y desviaciones estándar del dataset\n",
        "random_values_norm, _, _ = featureNormalize(random_values)\n",
        "# Reensamblar el conjunto de datos aleatorios con la columna de unos\n",
        "X_random_with_intercept = np.concatenate([np.ones((num_predictions, 1)), random_values_norm], axis=1)\n",
        "\n",
        "# Realizar predicciones utilizando los parámetros theta\n",
        "prices = np.dot(X_random_with_intercept, theta)\n",
        "\n",
        "# Imprimir las primeras 5 predicciones\n",
        "for i in range(5):\n",
        "    print(f\"Predicción {i+1}: ${prices[i]:.0f}\")\n",
        "\n",
        "# Opcional: Imprimir estadísticas básicas de las predicciones\n",
        "print(f\"\\nPromedio de las predicciones: ${np.mean(prices):.0f}\")\n",
        "print(f\"Desviación estándar de las predicciones: ${np.std(prices):.0f}\")"
      ]
    },
    {
      "cell_type": "markdown",
      "metadata": {
        "id": "v14L-L099B4-"
      },
      "source": [
        "Regresión Polinomial"
      ]
    },
    {
      "cell_type": "code",
      "source": [
        "from google.colab import drive\n",
        "drive.mount(\"/content/gdrive\")"
      ],
      "metadata": {
        "colab": {
          "base_uri": "https://localhost:8080/"
        },
        "id": "BHBRHgIuueUG",
        "outputId": "5cfbf963-016b-4a4a-d831-dc80fbcaeb5b"
      },
      "execution_count": null,
      "outputs": [
        {
          "output_type": "stream",
          "name": "stdout",
          "text": [
            "Drive already mounted at /content/gdrive; to attempt to forcibly remount, call drive.mount(\"/content/gdrive\", force_remount=True).\n"
          ]
        }
      ]
    },
    {
      "cell_type": "code",
      "source": [
        "# Importar librerías para la gestión de directorios y rutas\n",
        "import os\n",
        "\n",
        "# Importar librerías para cálculo numérico y científico en Python\n",
        "import numpy as np\n",
        "import pandas as pd\n",
        "import matplotlib.pyplot as plt\n",
        "\n",
        "# Importar librerías adicionales para la creación de gráficos\n",
        "from matplotlib import pyplot\n",
        "from mpl_toolkits.mplot3d import Axes3D  # Necesario para crear gráficos en 3D\n",
        "\n",
        "# Configurar matplotlib para mostrar gráficos dentro del cuaderno\n",
        "%matplotlib inline"
      ],
      "metadata": {
        "id": "ADtJnU_ByEv3"
      },
      "execution_count": null,
      "outputs": []
    },
    {
      "cell_type": "markdown",
      "source": [
        "Se lee un archivo CSV en un DataFrame de pandas y muestra el número total de columnas y sus nombres. Luego, elimina una columna específica del DataFrame según el índice proporcionado, muestra la información del DataFrame modificado y guarda el resultado en un nuevo archivo CSV. A continuación, extrae las primeras 29 columnas como características (`X`) y la columna 30 como variable objetivo (`y`), e imprime la cantidad total de datos en `y` y los primeros 20 valores de las características y respuestas. Este proceso es esencial para preparar y limpiar los datos antes de aplicar modelos de aprendizaje automático."
      ],
      "metadata": {
        "id": "cWpEv1uq0mO4"
      }
    },
    {
      "cell_type": "code",
      "execution_count": null,
      "metadata": {
        "colab": {
          "base_uri": "https://localhost:8080/"
        },
        "id": "AxW2gEpi9B5B",
        "outputId": "6111847e-ea68-4ad5-98fa-7f988b518330",
        "scrolled": true
      },
      "outputs": [
        {
          "output_type": "stream",
          "name": "stdout",
          "text": [
            "Número de columnas: 31\n",
            "Nombres de las columnas: ['Time', 'V1', 'V2', 'V3', 'V4', 'V5', 'V6', 'V7', 'V8', 'V9', 'V10', 'V11', 'V12', 'V13', 'V14', 'V15', 'V16', 'V17', 'V18', 'V19', 'V20', 'V21', 'V22', 'V23', 'V24', 'V25', 'V26', 'V27', 'V28', 'Amount', 'Class']\n",
            "DataFrame después de eliminar la columna con índice 30 :\n",
            "<class 'pandas.core.frame.DataFrame'>\n",
            "RangeIndex: 284807 entries, 0 to 284806\n",
            "Data columns (total 30 columns):\n",
            " #   Column  Non-Null Count   Dtype  \n",
            "---  ------  --------------   -----  \n",
            " 0   Time    284807 non-null  float64\n",
            " 1   V1      284807 non-null  float64\n",
            " 2   V2      284807 non-null  float64\n",
            " 3   V3      284807 non-null  float64\n",
            " 4   V4      284807 non-null  float64\n",
            " 5   V5      284807 non-null  float64\n",
            " 6   V6      284807 non-null  float64\n",
            " 7   V7      284807 non-null  float64\n",
            " 8   V8      284807 non-null  float64\n",
            " 9   V9      284807 non-null  float64\n",
            " 10  V10     284807 non-null  float64\n",
            " 11  V11     284807 non-null  float64\n",
            " 12  V12     284807 non-null  float64\n",
            " 13  V13     284807 non-null  float64\n",
            " 14  V14     284807 non-null  float64\n",
            " 15  V15     284807 non-null  float64\n",
            " 16  V16     284807 non-null  float64\n",
            " 17  V17     284807 non-null  float64\n",
            " 18  V18     284807 non-null  float64\n",
            " 19  V19     284807 non-null  float64\n",
            " 20  V20     284807 non-null  float64\n",
            " 21  V21     284807 non-null  float64\n",
            " 22  V22     284807 non-null  float64\n",
            " 23  V23     284807 non-null  float64\n",
            " 24  V24     284807 non-null  float64\n",
            " 25  V25     284807 non-null  float64\n",
            " 26  V26     284807 non-null  float64\n",
            " 27  V27     284807 non-null  float64\n",
            " 28  V28     284807 non-null  float64\n",
            " 29  Amount  284807 non-null  float64\n",
            "dtypes: float64(30)\n",
            "memory usage: 65.2 MB\n",
            "DataFrame modificado guardado exitosamente.\n",
            "Cantidad de datos en la columna y: 284807\n",
            "       0       150\n",
            "       0         3\n",
            "       1       379\n",
            "       1       124\n",
            "       2        70\n",
            "       2         4\n",
            "       4         5\n",
            "       7        41\n",
            "       7        93\n",
            "       9         4\n",
            "      10         8\n",
            "      10        10\n",
            "      10       122\n",
            "      11        28\n",
            "      12        59\n",
            "      12        16\n",
            "      12        13\n",
            "      13         1\n",
            "      14        47\n",
            "      15         5\n"
          ]
        }
      ],
      "source": [
        "# Leer el archivo CSV original y cargarlo en un DataFrame\n",
        "df = pd.read_csv('/creditcard.csv', delimiter=',', decimal='.')\n",
        "\n",
        "# Imprimir el número total de columnas y sus nombres para referencia\n",
        "print(\"Número de columnas:\", len(df.columns))\n",
        "print(\"Nombres de las columnas:\", df.columns.tolist())\n",
        "\n",
        "# Especificar el índice de la columna que se desea eliminar (por ejemplo, el índice 30)\n",
        "column_index = 30  # Modifica este valor si deseas eliminar otra columna\n",
        "\n",
        "# Verificar si el índice especificado es válido\n",
        "if column_index < len(df.columns):\n",
        "    # Eliminar la columna en el índice dado\n",
        "    sin = df.drop(df.columns[column_index], axis=1)\n",
        "\n",
        "    # Mostrar la información del DataFrame después de eliminar la columna\n",
        "    print(\"DataFrame después de eliminar la columna con índice\", column_index, \":\")\n",
        "    sin.info()\n",
        "\n",
        "    # Guardar el DataFrame modificado en un nuevo archivo CSV\n",
        "    sin.to_csv('/content/test_modificado.csv', index=False)\n",
        "    print(\"DataFrame modificado guardado exitosamente.\")\n",
        "else:\n",
        "    print(f\"Índice {column_index} está fuera del rango. El DataFrame tiene {len(df.columns)} columnas.\")\n",
        "\n",
        "# Trabajar con el DataFrame modificado\n",
        "# Extraer las primeras 29 columnas como características (X) y la columna 30 como respuesta (y)\n",
        "X = sin.iloc[:, :29].values\n",
        "y = sin.iloc[:, 29].values\n",
        "\n",
        "# Obtener el número total de datos en la columna de respuestas\n",
        "m = y.size\n",
        "print(\"Cantidad de datos en la columna y:\", m)\n",
        "\n",
        "# Imprimir los primeros 20 valores de las características y respuestas\n",
        "for i in range(20):\n",
        "    print('{:8.0f}{:10.0f}'.format(X[i, 0], y[i]))"
      ]
    },
    {
      "cell_type": "markdown",
      "source": [
        "La función `plotData` crea un gráfico de dispersión que muestra puntos rojos con borde negro en una nueva figura. Los puntos están determinados por las coordenadas `x` y `y`, y el gráfico tiene etiquetas en los ejes: \"Edad de las personas\" para el eje vertical (y) y \"Capacidad adquisitiva (en miles)\" para el eje horizontal (x)."
      ],
      "metadata": {
        "id": "VCaJy7Pg0s9w"
      }
    },
    {
      "cell_type": "code",
      "source": [
        "def plotData(x, y):\n",
        "    # Dibuja un gráfico de dispersión con los puntos (x, y) en una nueva figura.\n",
        "\n",
        "    fig = pyplot.figure()  # Crear una nueva figura para el gráfico\n",
        "\n",
        "    # Graficar los puntos (x, y) usando marcadores rojos con borde negro\n",
        "    pyplot.plot(x, y, 'ro', ms=10, mec='k')\n",
        "    pyplot.ylabel('Edad de las personas')  # Etiqueta del eje y\n",
        "    pyplot.xlabel('Capacidad adquisitiva (en miles)')  # Etiqueta del eje x"
      ],
      "metadata": {
        "id": "jyMPsEfeyH4d"
      },
      "execution_count": null,
      "outputs": []
    },
    {
      "cell_type": "code",
      "source": [
        "plotData(X, y)"
      ],
      "metadata": {
        "colab": {
          "base_uri": "https://localhost:8080/",
          "height": 449
        },
        "id": "gGiaKNwcyICa",
        "outputId": "7194aa6a-1234-495d-d761-f2ce498ff22a"
      },
      "execution_count": null,
      "outputs": [
        {
          "output_type": "display_data",
          "data": {
            "text/plain": [
              "<Figure size 640x480 with 1 Axes>"
            ],
            "image/png": "[encoded data removed]"
          },
          "metadata": {}
        }
      ]
    },
    {
      "cell_type": "code",
      "source": [
        "# Añadir nuevas características al conjunto de datos X, que son los cuadrados de las características originales\n",
        "X = np.concatenate([X, X * X], axis=1)"
      ],
      "metadata": {
        "id": "SVBkcRXSyIJK"
      },
      "execution_count": null,
      "outputs": []
    },
    {
      "cell_type": "code",
      "source": [
        "print(X)"
      ],
      "metadata": {
        "colab": {
          "base_uri": "https://localhost:8080/"
        },
        "id": "ovO_hAyxyIMI",
        "outputId": "c5f3fe8e-1a62-4fbe-8489-e3aa264d9190"
      },
      "execution_count": null,
      "outputs": [
        {
          "output_type": "stream",
          "name": "stdout",
          "text": [
            "[[ 0.00000000e+00 -1.35980713e+00 -7.27811733e-02 ...  3.57644242e-02\n",
            "   1.78378400e-02  4.43231060e-04]\n",
            " [ 0.00000000e+00  1.19185711e+00  2.66150712e-01 ...  1.58494333e-02\n",
            "   8.06960702e-05  2.16801158e-04]\n",
            " [ 1.00000000e+00 -1.35835406e+00 -1.34016307e+00 ...  1.93478562e-02\n",
            "   3.06393181e-03  3.57028245e-03]\n",
            " ...\n",
            " [ 1.72788000e+05  1.91956501e+00 -3.01253846e-01 ...  7.63362103e-03\n",
            "   1.98449948e-05  7.05477614e-04]\n",
            " [ 1.72788000e+05 -2.40440050e-01  5.30482513e-01 ...  2.98846408e-01\n",
            "   1.18419523e-02  1.09271108e-02]\n",
            " [ 1.72792000e+05 -5.33412522e-01 -1.89733337e-01 ...  6.69561081e-01\n",
            "   5.83371660e-06  1.86292862e-04]]\n"
          ]
        }
      ]
    },
    {
      "cell_type": "markdown",
      "source": [
        "En la siguiente celda primero reemplaza los valores `NaN` en el DataFrame `sin` con la media de cada columna para asegurar que no haya datos faltantes. Luego, convierte el DataFrame en un array de `numpy` para su procesamiento posterior. La función `featureNormalize` calcula la media y la desviación estándar de cada columna del array, normalizando los datos al restar la media y dividir por la desviación estándar. También maneja posibles problemas de división por cero al reemplazar desviaciones estándar de cero por uno."
      ],
      "metadata": {
        "id": "yUoLHKbD02P7"
      }
    },
    {
      "cell_type": "code",
      "source": [
        "# Sustituir los valores NaN en el DataFrame con la media de cada columna\n",
        "sin.fillna(df.mean(), inplace=True)\n",
        "\n",
        "# Convertir el DataFrame a un array de numpy para su procesamiento\n",
        "X = sin.to_numpy()\n",
        "\n",
        "def featureNormalize(X):\n",
        "    # Calcular la media y la desviación estándar de cada columna\n",
        "    mu = np.mean(X, axis=0)\n",
        "    sigma = np.std(X, axis=0)\n",
        "    sigma = np.where(sigma == 0, 1, sigma)  # Evitar división por cero reemplazando ceros en sigma por 1\n",
        "    # Normalizar los datos restando la media y dividiendo por la desviación estándar\n",
        "    X_norm = (X - mu) / sigma\n",
        "    return X_norm, mu, sigma"
      ],
      "metadata": {
        "id": "0LBxb1CWyIO4"
      },
      "execution_count": null,
      "outputs": []
    },
    {
      "cell_type": "code",
      "source": [
        "# Aplicar la normalización de características a los datos cargados\n",
        "X_norm, mu, sigma = featureNormalize(X)\n",
        "\n",
        "#print(X)\n",
        "#print('Media calculada:', mu)\n",
        "#print('Desviación estandar calculada:', sigma)\n",
        "#print(X_norm)"
      ],
      "metadata": {
        "id": "jaP43KNjyIRd"
      },
      "execution_count": null,
      "outputs": []
    },
    {
      "cell_type": "code",
      "source": [
        "print(X_norm)"
      ],
      "metadata": {
        "colab": {
          "base_uri": "https://localhost:8080/"
        },
        "id": "QF1gYPXhyIUe",
        "outputId": "a7406812-34f0-4e01-aec7-3c88d62b3455"
      },
      "execution_count": null,
      "outputs": [
        {
          "output_type": "stream",
          "name": "stdout",
          "text": [
            "[[-1.99658302 -0.69424232 -0.04407492 ...  0.33089162 -0.06378115\n",
            "   0.24496426]\n",
            " [-1.99658302  0.60849633  0.16117592 ... -0.02225568  0.04460752\n",
            "  -0.34247454]\n",
            " [-1.99656197 -0.69350046 -0.81157783 ... -0.13713686 -0.18102083\n",
            "   1.16068593]\n",
            " ...\n",
            " [ 1.6419735   0.98002374 -0.18243372 ...  0.01103672 -0.0804672\n",
            "  -0.0818393 ]\n",
            " [ 1.6419735  -0.12275539  0.32125034 ...  0.26960398  0.31668678\n",
            "  -0.31324853]\n",
            " [ 1.64205773 -0.27233093 -0.11489898 ... -0.00598394  0.04134999\n",
            "   0.51435531]]\n"
          ]
        }
      ]
    },
    {
      "cell_type": "code",
      "source": [
        "# Graficar la segunda característica normalizada frente a los valores de y\n",
        "plotData(X_norm[:, 1], y)"
      ],
      "metadata": {
        "colab": {
          "base_uri": "https://localhost:8080/",
          "height": 449
        },
        "id": "7o5HBmCuyIYj",
        "outputId": "3bbec92f-b356-4a0b-84dc-5d7a211150a5"
      },
      "execution_count": null,
      "outputs": [
        {
          "output_type": "display_data",
          "data": {
            "text/plain": [
              "<Figure size 640x480 with 1 Axes>"
            ],
            "image/png": "[encoded data removed]"
          },
          "metadata": {}
        }
      ]
    },
    {
      "cell_type": "code",
      "execution_count": null,
      "metadata": {
        "id": "nbHQvsVZ9B5F"
      },
      "outputs": [],
      "source": [
        "# Añadir una columna de unos a X para incluir el término de intersección\n",
        "X = np.concatenate([np.ones((m, 1)), X_norm], axis=1)"
      ]
    },
    {
      "cell_type": "code",
      "execution_count": null,
      "metadata": {
        "colab": {
          "base_uri": "https://localhost:8080/"
        },
        "id": "65pwOHdb9B5F",
        "outputId": "c163e25c-869e-481c-ef67-4506b3cf182c"
      },
      "outputs": [
        {
          "output_type": "stream",
          "name": "stdout",
          "text": [
            "[[ 1.         -1.99658302 -0.69424232 ...  0.33089162 -0.06378115\n",
            "   0.24496426]\n",
            " [ 1.         -1.99658302  0.60849633 ... -0.02225568  0.04460752\n",
            "  -0.34247454]\n",
            " [ 1.         -1.99656197 -0.69350046 ... -0.13713686 -0.18102083\n",
            "   1.16068593]\n",
            " ...\n",
            " [ 1.          1.6419735   0.98002374 ...  0.01103672 -0.0804672\n",
            "  -0.0818393 ]\n",
            " [ 1.          1.6419735  -0.12275539 ...  0.26960398  0.31668678\n",
            "  -0.31324853]\n",
            " [ 1.          1.64205773 -0.27233093 ... -0.00598394  0.04134999\n",
            "   0.51435531]]\n"
          ]
        }
      ],
      "source": [
        "print(X)"
      ]
    },
    {
      "cell_type": "markdown",
      "metadata": {
        "id": "ejIWPYMZ9B5F"
      },
      "source": [
        "<a id=\"section5\"></a>\n",
        "### 2.2 Descenso por el gradiente\n",
        "\n"
      ]
    },
    {
      "cell_type": "markdown",
      "source": [
        "La función `computeCostMulti` calcula el costo de una regresión lineal múltiple utilizando los parámetros `theta`. Primero, determina el número de ejemplos en el conjunto de datos. Luego, calcula las predicciones del modelo usando `theta` y calcula el costo como el promedio de los errores al cuadrado entre las predicciones y los valores reales. Este costo se devuelve como una medida de qué tan bien el modelo se ajusta a los datos."
      ],
      "metadata": {
        "id": "4NSQ8fb91BGa"
      }
    },
    {
      "cell_type": "code",
      "execution_count": null,
      "metadata": {
        "id": "AXrQGcgf9B5G"
      },
      "outputs": [],
      "source": [
        "def computeCostMulti(X, y, theta):\n",
        "    # Calcula el costo de la regresión lineal múltiple usando el parámetro theta\n",
        "    # Número de ejemplos en el conjunto de datos\n",
        "    m = y.shape[0]\n",
        "    # Inicializar el valor del costo\n",
        "    J = 0\n",
        "    # Calcular las predicciones del modelo\n",
        "    h = np.dot(X, theta)\n",
        "    # Calcular el costo como el promedio de los errores al cuadrado\n",
        "    J = (1 / (2 * m)) * np.sum(np.square(h - y))\n",
        "    return J\n"
      ]
    },
    {
      "cell_type": "markdown",
      "source": [
        "La función `gradientDescentMulti` optimiza los parámetros `theta` de un modelo de regresión lineal múltiple usando el método de descenso por gradiente. Primero, inicializa un historial para el costo durante las iteraciones. Luego, en cada iteración, calcula las predicciones del modelo, el error entre las predicciones y los valores reales, y actualiza `theta` en función del gradiente. Después, guarda el costo actual en el historial. Finalmente, devuelve los parámetros optimizados `theta` y el historial de costos `J_history`, mostrando cómo el costo cambia durante el proceso de optimización."
      ],
      "metadata": {
        "id": "i0YqT1JT1E8m"
      }
    },
    {
      "cell_type": "code",
      "execution_count": null,
      "metadata": {
        "id": "PDQ_Sr7Z9B5G"
      },
      "outputs": [],
      "source": [
        "def gradientDescentMulti(X, y, theta, alpha, num_iters):\n",
        "    # Realiza la optimización de los parámetros theta usando el método de descenso por gradiente\n",
        "\n",
        "    # Número de ejemplos en el conjunto de datos\n",
        "    m = len(y)\n",
        "    # Inicializar el historial del costo para cada iteración\n",
        "    J_history = np.zeros(num_iters)\n",
        "\n",
        "    for i in range(num_iters):\n",
        "        # Calcular las predicciones del modelo\n",
        "        predictions = X.dot(theta)\n",
        "        # Calcular el error entre las predicciones y los valores reales\n",
        "        errors = predictions - y\n",
        "        # Actualizar los parámetros theta usando la regla de actualización del gradiente\n",
        "        theta = theta - (alpha / m) * (X.T.dot(errors))\n",
        "        # Guardar el costo actual en el historial\n",
        "        J_history[i] = (1 / (2 * m)) * np.sum(np.square(errors))\n",
        "\n",
        "    return theta, J_history"
      ]
    },
    {
      "cell_type": "markdown",
      "metadata": {
        "id": "YgeZf5Pc9B5G"
      },
      "source": [
        "#### 3.2.1 Seleccionando coheficientes de aprendizaje\n",
        "1. **Se estableció** una semilla para asegurar resultados reproducibles y se generaron datos aleatorios para características y variable objetivo.\n",
        "2. **Se añadió** una columna de unos para incluir el término de intersección y se inicializaron los parámetros del modelo, ajustándolos mediante el descenso por gradiente.\n",
        "3. **Se graficó** la convergencia del costo para verificar que el modelo se entrenaba correctamente y se imprimieron los parámetros optimizados.\n",
        "4. **Se generaron** nuevos datos para realizar predicciones con el modelo ajustado, y **se guardaron** los resultados y parámetros en un archivo para su uso futuro."
      ]
    },
    {
      "cell_type": "code",
      "execution_count": null,
      "metadata": {
        "colab": {
          "base_uri": "https://localhost:8080/",
          "height": 784
        },
        "id": "rIUXxlk69B5G",
        "outputId": "0950555b-2d84-4a04-d5b8-fce4cd1b84d9"
      },
      "outputs": [
        {
          "output_type": "display_data",
          "data": {
            "text/plain": [
              "<Figure size 640x480 with 1 Axes>"
            ],
            "image/png": "[encoded data removed]"
          },
          "metadata": {}
        },
        {
          "output_type": "stream",
          "name": "stdout",
          "text": [
            "theta calculado por el descenso por el gradiente: [0.35311915 0.03330942 0.14533118 0.04744355]\n",
            "Predicciones para nuevas entradas: [0.50626597 0.53251747 0.42697873 0.37683248 0.40249419 0.38117025\n",
            " 0.4930725  0.45328642 0.4925937  0.48280543 0.46911734 0.47059988\n",
            " 0.44683543 0.45865073 0.40165221 0.52992338 0.53098193 0.42743554\n",
            " 0.45144313 0.50308972 0.43504059 0.42077498 0.45214766 0.47877056\n",
            " 0.54488833 0.52572049 0.45526816 0.40482087 0.46345125 0.54954084\n",
            " 0.49088844 0.45978956 0.43845685 0.43277538 0.49551325 0.51153415\n",
            " 0.43136915 0.50457195 0.48683465 0.50449405 0.41374829 0.39560708\n",
            " 0.50904852 0.386429   0.42435386 0.47383571 0.51352899 0.48986451\n",
            " 0.42068405 0.47015767 0.41456575 0.47560391 0.44990661 0.47892992\n",
            " 0.53633021 0.50632646 0.56512252 0.39818117 0.43605118 0.49058932\n",
            " 0.47542499 0.46862216 0.36604827 0.53349068 0.46683796 0.46132732\n",
            " 0.51636049 0.46591891 0.45623717 0.45329109 0.46341522 0.38792429\n",
            " 0.48745208 0.47177164 0.53883435 0.52699974 0.38872939 0.44876609\n",
            " 0.52377116 0.47774876 0.56403336 0.42872344 0.51228122 0.45626985\n",
            " 0.4265115  0.42896038 0.53086473 0.41158826 0.45652724 0.49865939\n",
            " 0.45831856 0.50597417 0.46058628 0.44075549 0.46647137 0.50563087\n",
            " 0.44122156 0.45101031 0.43268098 0.46904377]\n"
          ]
        }
      ],
      "source": [
        "# Generar datos de prueba para el ejemplo\n",
        "np.random.seed(0)  # Establecer una semilla para garantizar resultados reproducibles\n",
        "m = 100  # Número de ejemplos de entrenamiento\n",
        "n = 3  # Número de características (sin contar el término de intersección)\n",
        "\n",
        "# Crear datos aleatorios para las características y la variable objetivo\n",
        "X = np.random.rand(m, n)  # Datos de características\n",
        "y = np.random.rand(m)  # Datos de la variable objetivo\n",
        "\n",
        "# Añadir una columna de unos para el término de sesgo (intersección)\n",
        "X = np.hstack([np.ones((m, 1)), X])\n",
        "\n",
        "# Inicializar los parámetros del modelo\n",
        "alpha = 0.001  # Tasa de aprendizaje\n",
        "num_iters = 10000  # Número de iteraciones para el descenso por gradiente\n",
        "theta = np.zeros(X.shape[1])  # Inicializar los parámetros theta en cero\n",
        "\n",
        "# Ejecutar el algoritmo de descenso por gradiente para ajustar los parámetros theta\n",
        "theta, J_history = gradientDescentMulti(X, y, theta, alpha, num_iters)\n",
        "\n",
        "# Graficar cómo cambia el costo durante las iteraciones para verificar la convergencia\n",
        "plt.plot(np.arange(len(J_history)), J_history, lw=2)\n",
        "plt.xlabel('Número de iteraciones')\n",
        "plt.ylabel('Costo J')\n",
        "plt.title('Convergencia del costo')\n",
        "plt.show()\n",
        "\n",
        "# Imprimir los parámetros theta calculados por el descenso por gradiente\n",
        "print('theta calculado por el descenso por el gradiente:', theta)\n",
        "\n",
        "# Generar nuevos datos para hacer predicciones\n",
        "num_predicciones = 100  # Número de nuevas predicciones a realizar\n",
        "X_pred = np.random.rand(num_predicciones, n)  # Nuevos datos de características\n",
        "X_pred = np.hstack([np.ones((num_predicciones, 1)), X_pred])  # Añadir columna de unos para el término de intersección\n",
        "\n",
        "# Realizar las predicciones usando los parámetros theta ajustados\n",
        "predicciones = X_pred.dot(theta)\n",
        "print('Predicciones para nuevas entradas:', predicciones)\n",
        "\n",
        "# Guardar los datos, predicciones y parámetros en un archivo para futuras referencias\n",
        "np.savez('predicciones_datos.npz', X=X, y=y, X_pred=X_pred, predicciones=predicciones, theta=theta)"
      ]
    },
    {
      "cell_type": "markdown",
      "source": [
        "Se realizan las siguientes acciones:\n",
        "\n",
        "1. **Define la función `plotData`**: Esta función grafica los puntos de datos originales en color rojo con marcadores en forma de 'x'.\n",
        "\n",
        "2. **Carga datos y predicciones**: Se lee un archivo guardado (`predicciones_datos.npz`) que contiene datos de características, valores reales, nuevos datos para predicción, las predicciones realizadas y los parámetros del modelo.\n",
        "\n",
        "3. **Crea una nueva figura**: Configura el tamaño de la figura para la gráfica.\n",
        "\n",
        "4. **Grafica los datos originales**: Usa la función `plotData` para mostrar los puntos originales en la gráfica.\n",
        "\n",
        "5. **Dibuja la línea de ajuste**: Grafica la línea de regresión utilizando los parámetros del modelo `theta`.\n",
        "\n",
        "6. **Grafica las predicciones**: Muestra las predicciones realizadas en los nuevos datos con marcadores en color azul.\n",
        "\n",
        "7. **Añade etiquetas, título y leyenda**: Etiqueta los ejes, añade un título y una leyenda a la gráfica.\n",
        "\n",
        "8. **Muestra la gráfica**: Presenta la gráfica con los datos originales, la línea de ajuste y las predicciones."
      ],
      "metadata": {
        "id": "3BLMfqzL1qPH"
      }
    },
    {
      "cell_type": "code",
      "execution_count": null,
      "metadata": {
        "colab": {
          "base_uri": "https://localhost:8080/",
          "height": 564
        },
        "id": "AcRsRvFQ9B5G",
        "outputId": "5bc857d2-c6f7-484b-9ac6-ce15d26b6c6e"
      },
      "outputs": [
        {
          "output_type": "display_data",
          "data": {
            "text/plain": [
              "<Figure size 1000x600 with 1 Axes>"
            ],
            "image/png": "[encoded data removed]"
          },
          "metadata": {}
        }
      ],
      "source": [
        "def plotData(X, y):\n",
        "    # Grafica los puntos de datos originales en color rojo con marcador en forma de 'x'\n",
        "    plt.scatter(X, y, color='red', marker='x', label='Datos originales')\n",
        "\n",
        "# Cargar los datos y las predicciones desde un archivo guardado\n",
        "data = np.load('predicciones_datos.npz')\n",
        "X = data['X']  # Datos de características\n",
        "y = data['y']  # Valores reales de la variable objetivo\n",
        "X_pred = data['X_pred']  # Nuevos datos para predecir\n",
        "predicciones = data['predicciones']  # Predicciones realizadas\n",
        "theta = data['theta']  # Parámetros del modelo\n",
        "\n",
        "# Crear una nueva figura para la gráfica\n",
        "plt.figure(figsize=(10, 6))\n",
        "\n",
        "# Graficar los datos originales usando la función definida\n",
        "plotData(X[:, 1], y)\n",
        "\n",
        "# Graficar la línea de ajuste (regresión) calculada con theta\n",
        "plt.plot(X[:, 1], X.dot(theta), '-', label='Línea de ajuste')\n",
        "\n",
        "# Graficar las predicciones realizadas en nuevos datos\n",
        "plt.scatter(X_pred[:, 1], predicciones, color='blue', marker='o', label='Predicciones')\n",
        "\n",
        "# Añadir etiquetas a los ejes, título y leyenda a la gráfica\n",
        "plt.xlabel('Características')\n",
        "plt.ylabel('Valor objetivo')\n",
        "plt.title('Datos y Predicciones')\n",
        "plt.legend()\n",
        "\n",
        "# Mostrar la gráfica\n",
        "plt.show()"
      ]
    }
  ],
  "metadata": {
    "kernelspec": {
      "display_name": "Python 3",
      "language": "python",
      "name": "python3"
    },
    "language_info": {
      "codemirror_mode": {
        "name": "ipython",
        "version": 3
      },
      "file_extension": ".py",
      "mimetype": "text/x-python",
      "name": "python",
      "nbconvert_exporter": "python",
      "pygments_lexer": "ipython3",
      "version": "3.8.5"
    },
    "colab": {
      "provenance": [],
      "include_colab_link": true
    }
  },
  "nbformat": 4,
  "nbformat_minor": 0
}